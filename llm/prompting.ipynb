{
 "cells": [
  {
   "cell_type": "code",
   "execution_count": 2,
   "metadata": {},
   "outputs": [],
   "source": [
    "from utils import get_training_objects, langely_pipeline, make_ly_prompt"
   ]
  },
  {
   "cell_type": "code",
   "execution_count": 3,
   "metadata": {},
   "outputs": [
    {
     "name": "stderr",
     "output_type": "stream",
     "text": [
      "Python(78385) MallocStackLogging: can't turn off malloc stack logging because it was not enabled.\n"
     ]
    },
    {
     "name": "stdout",
     "output_type": "stream",
     "text": [
      "Dataset({\n",
      "    features: ['instruction', 'output'],\n",
      "    num_rows: 15\n",
      "})\n"
     ]
    },
    {
     "name": "stderr",
     "output_type": "stream",
     "text": [
      "Map: 100%|██████████| 15/15 [00:00<00:00, 206.07 examples/s]\n"
     ]
    }
   ],
   "source": [
    "tokenizer, model, _ = get_training_objects()"
   ]
  },
  {
   "cell_type": "code",
   "execution_count": 6,
   "metadata": {},
   "outputs": [
    {
     "name": "stderr",
     "output_type": "stream",
     "text": [
      "The attention mask and the pad token id were not set. As a consequence, you may observe unexpected behavior. Please pass your input's `attention_mask` to obtain reliable results.\n",
      "Setting `pad_token_id` to `eos_token_id`:32021 for open-end generation.\n",
      "Python(78443) MallocStackLogging: can't turn off malloc stack logging because it was not enabled.\n",
      "huggingface/tokenizers: The current process just got forked, after parallelism has already been used. Disabling parallelism to avoid deadlocks...\n",
      "To disable this warning, you can either:\n",
      "\t- Avoid using `tokenizers` before the fork if possible\n",
      "\t- Explicitly set the environment variable TOKENIZERS_PARALLELISM=(true | false)\n"
     ]
    }
   ],
   "source": [
    "input = \"Using the langely programming language, create a function that subtracts a second number from the first only if the second number is less than the first.\"\n",
    "res = langely_pipeline(tokenizer, model, make_ly_prompt(input))"
   ]
  },
  {
   "cell_type": "code",
   "execution_count": 7,
   "metadata": {},
   "outputs": [
    {
     "name": "stdout",
     "output_type": "stream",
     "text": [
      "In the given language, you can create a function that subtracts a second number from the first only if the second number is less than the first. Here is how you can do it:\n",
      "\n",
      "```langely\n",
      "// function to subtract a second number from the first if the second number is less than the first\n",
      "func subtract_if_less(first, second) {\n",
      "    if second < first {\n",
      "        return first - second;\n",
      "    } else {\n",
      "        return first;\n",
      "    };\n",
      "};\n",
      "\n",
      "print subtract_if_less(10, 5); // should print 5\n",
      "print subtract_if_less(5, 10); // should print 5\n",
      "print subtract_if_less(10, 10); // should print 0\n",
      "```\n",
      "\n",
      "In this function, we first check if the second number is less than the first. If it is, we subtract the second number from the first and return the result. If the second number is not less than the first, we simply return the first number.\n",
      "\n"
     ]
    }
   ],
   "source": [
    "if res[0]:\n",
    "    print(res[1])\n",
    "else:\n",
    "    print(res[2])"
   ]
  }
 ],
 "metadata": {
  "kernelspec": {
   "display_name": ".venv",
   "language": "python",
   "name": "python3"
  },
  "language_info": {
   "codemirror_mode": {
    "name": "ipython",
    "version": 3
   },
   "file_extension": ".py",
   "mimetype": "text/x-python",
   "name": "python",
   "nbconvert_exporter": "python",
   "pygments_lexer": "ipython3",
   "version": "3.12.3"
  }
 },
 "nbformat": 4,
 "nbformat_minor": 2
}
